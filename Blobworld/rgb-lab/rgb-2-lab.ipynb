{
 "cells": [
  {
   "cell_type": "code",
   "execution_count": 1,
   "metadata": {},
   "outputs": [],
   "source": [
    "import numpy as np\n",
    "import skimage\n",
    "from PIL import Image\n",
    "import matplotlib.pyplot as plt"
   ]
  },
  {
   "cell_type": "code",
   "execution_count": 2,
   "metadata": {},
   "outputs": [],
   "source": [
    "def read_image(path):\n",
    "  return skimage.io.imread(path)"
   ]
  },
  {
   "cell_type": "code",
   "execution_count": 46,
   "metadata": {},
   "outputs": [],
   "source": [
    "image = np.array(read_image(\"../1.jpeg\"))"
   ]
  },
  {
   "cell_type": "code",
   "execution_count": 47,
   "metadata": {},
   "outputs": [
    {
     "data": {
      "text/plain": [
       "(1534, 1170, 3)"
      ]
     },
     "execution_count": 47,
     "metadata": {},
     "output_type": "execute_result"
    }
   ],
   "source": [
    "image.shape"
   ]
  },
  {
   "cell_type": "code",
   "execution_count": 74,
   "metadata": {},
   "outputs": [],
   "source": [
    "def rgb2lab(rgb):\n",
    "  \n",
    "  [y, x, junk] = rgb.shape\n",
    "\n",
    "  def labF(inp):\n",
    "    out = inp ** (1/3) * (inp > 0.008856)\n",
    "    out += (7.787 * inp + 16/116)*(inp <= .008856)\n",
    "    return out\n",
    "\n",
    "  flattened = rgb.transpose(1, 0, 2).reshape(-1, 3) / 255\n",
    "\n",
    "  XYZn = np.array([0.9505, 1.0000, 1.0888]).reshape(-1, 1)\n",
    "\n",
    "  XYZ = np.array([\n",
    "    [0.412453, 0.357580, 0.180423], \n",
    "    [0.212671, 0.715160, 0.072169],\n",
    "    [0.019334, 0.119193, 0.950227]\n",
    "    ]).dot(flattened.T)\n",
    "\n",
    "  Lstar = 116*labF(XYZ[1, :]) - 16\n",
    "\n",
    "  astar = 500 * (labF(XYZ[0, :] / XYZn[0]) - labF(XYZ[1, :]))\n",
    "\n",
    "  bstar = 200 * (labF(XYZ[1, :]) - labF(XYZ[2, :] / XYZn[2]))\n",
    "\n",
    "  return Lstar.reshape(x, y).T, astar.reshape(x, y).T, bstar.reshape(x, y).T"
   ]
  },
  {
   "cell_type": "code",
   "execution_count": 75,
   "metadata": {},
   "outputs": [],
   "source": [
    "L, A, B = rgb2lab(image)"
   ]
  },
  {
   "cell_type": "code",
   "execution_count": null,
   "metadata": {},
   "outputs": [],
   "source": [
    "def lab2rgb(lab):\n",
    "  "
   ]
  }
 ],
 "metadata": {
  "kernelspec": {
   "display_name": "lv",
   "language": "python",
   "name": "python3"
  },
  "language_info": {
   "codemirror_mode": {
    "name": "ipython",
    "version": 3
   },
   "file_extension": ".py",
   "mimetype": "text/x-python",
   "name": "python",
   "nbconvert_exporter": "python",
   "pygments_lexer": "ipython3",
   "version": "3.10.11"
  }
 },
 "nbformat": 4,
 "nbformat_minor": 2
}
